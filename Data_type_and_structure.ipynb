{
  "nbformat": 4,
  "nbformat_minor": 0,
  "metadata": {
    "colab": {
      "provenance": []
    },
    "kernelspec": {
      "name": "python3",
      "display_name": "Python 3"
    },
    "language_info": {
      "name": "python"
    }
  },
  "cells": [
    {
      "cell_type": "code",
      "execution_count": null,
      "metadata": {
        "id": "sKlzSxVhgCVT"
      },
      "outputs": [],
      "source": []
    },
    {
      "cell_type": "markdown",
      "source": [
        "#Data Types and Structures Questions"
      ],
      "metadata": {
        "id": "kWx9jnFd7-UP"
      }
    },
    {
      "cell_type": "markdown",
      "source": [
        "1. What are data structures, and why are they important?\n",
        "\n",
        "  * Data structures are a way of organizing, storing, and managing data in a computer so it can be accessed and used efficiently. They are fundamental to computer science and programming because they enable efficient algorithms and optimized code for various tasks, from simple data storage to complex computations.\n",
        "\n",
        "2. Explain the difference between mutable and immutable data types with examples?\n",
        "\n",
        " * In Python, mutable data types can be modified after creation, while immutable data types cannot. Lists, dictionaries, and sets are mutable, meaning their contents can be changed. Strings and tuples are immutable, meaning they cannot be changed once created.\n",
        "\n",
        "3. What are the main differences between lists and tuples in Python?\n",
        "\n",
        " * The main differences between lists and tuples in Python are as follows:\n",
        "Mutability:\n",
        "Lists: are mutable, meaning their elements can be modified (added, removed, or changed) after creation.\n",
        "Tuples: are immutable, meaning their elements cannot be changed once the tuple is created.\n",
        "\n",
        "Syntax:\n",
        "Lists: are defined using square brackets [].\n",
        "\n",
        "          Tuples: are defined using parentheses ().\n",
        "\n",
        "4. Describe how dictionaries store data.\n",
        " * Dictionaries are unordered collections of data and are represented with curly brackets { } . Like lists, dictionaries are mutable(changeable) and indexed. With dictionaries, data is stored in a key:value format.\n",
        "\n",
        "5. Why might you use a set instead of a list in Python?\n",
        " * Sets in Python offer distinct advantages over lists in specific scenarios due to their inherent properties:\n",
        "\n",
        "  1. Uniqueness of Elements:\n",
        "      Sets automatically enforce uniqueness, meaning they cannot contain duplicate elements. If you need a collection of distinct items, a set is the ideal choice as it handles duplicate removal automatically. Lists, on the other hand, allow duplicate entries.\n",
        "\n",
        "  2. Efficient Membership Testing:\n",
        "      Sets are highly optimized for checking if an element is present within the collection (membership testing). This operation is significantly faster in sets compared to lists, especially for large datasets, due to their underlying hash-based implementation.\n",
        "\n",
        "  3. Mathematical Set Operations:\n",
        "      Sets provide built-in methods for common mathematical set operations like union, intersection, difference, and symmetric difference. These operations are efficient and straightforward to perform on sets, making them suitable for tasks involving comparing or combining collections based on set theory principles.\n",
        "\n",
        "  4. Order Irrelevance:\n",
        "      Sets are unordered collections, meaning the order in which elements are added or retrieved is not preserved. If the order of elements is not important for your application, using a set simplifies the data structure and can offer performance benefits for certain operations. Lists, conversely, maintain the insertion order of elements.\n",
        "\n",
        " use a set when you require a collection of unique elements, need fast membership testing, intend to perform mathematical set operations, and the order of elements is not a concern. Otherwise, a list might be a more suitable choice.\n",
        "\n",
        "\n",
        "6. What is a string in Python, and how is it different from a list?   \n",
        " * In Python, a string is a sequence of characters, enclosed within single quotes (' '), double quotes (\" \"), or triple quotes (\"\"\" \"\"\"). Strings are used to represent text data, like words, sentences, or even entire documents.\n",
        "\n",
        " While both strings and lists are sequence data types in Python, meaning they store elements in a specific order, they have fundamental differences:\n",
        "\n",
        "\n",
        "     1. Mutability:\n",
        "\n",
        "     Strings are Immutable: As mentioned, you cannot change individual characters within an existing string. If you need a modified version, you create a new string.\n",
        "\n",
        "     Lists are Mutable: Lists are dynamic, allowing you to add, remove, or modify elements after they are created.\n",
        "\n",
        "     2. Collection of elements:\n",
        "\n",
        "     Strings Store Characters: Strings primarily store a sequence of characters.\n",
        "\n",
        "     Lists Store Diverse Elements: Lists are much more versatile. They can store items of any data type, including numbers, strings, Booleans, or even other lists (nested lists).\n",
        "\n",
        "     3. Representation:\n",
        "\n",
        "     Strings: Enclosed in single (' '), double (\" \"), or triple quotes (\"\"\" \"\"\").\n",
        "\n",
        "     Lists: Enclosed in square brackets ([]), with elements separated by commas.\n",
        "\n",
        "     4. Operations:\n",
        "\n",
        "     Strings: Primarily focus on text manipulation (concatenation, slicing, case conversion, etc.).\n",
        "\n",
        "     Lists: Offer a broader range of operations, including adding and removing elements, sorting, reversing, and more.\n",
        "\n",
        "     5.Use cases:\n",
        "\n",
        "     Strings: Best for representing textual data, filenames, user input, etc.\n",
        "\n",
        "     Lists: Useful for storing collections of related items that might change over time, like a list of students, items in a shopping cart, or a series of temperatures.\n",
        "\n",
        " while both strings and lists allow you to work with ordered sequences of data, their fundamental difference in mutability and the types of data they can hold dictates their respective strengths and ideal use cases in Python programming.     \n",
        "             \n",
        "         \n",
        "\n",
        "7. How do tuples ensure data integrity in Python?\n",
        " * Tuples in Python ensure data integrity primarily through their immutability. This characteristic means that once a tuple is created, its elements cannot be changed, added, or removed.\n",
        "\n",
        "\n",
        " 8. What is a hash table, and how does it relate to dictionaries in Python?\n",
        "  * A hash table is a data structure that stores key-value pairs and allows for efficient retrieval of values based on their associated keys. It achieves this efficiency by using a hash function to map keys to indices in an underlying array, known as the \"buckets\" or \"slots.\" When a key-value pair is inserted, the hash function computes an index, and the pair is stored at that location. When a value is retrieved, the same hash function is applied to the key, and the resulting index is used to directly access the corresponding value. This direct access typically provides near-constant time complexity for insertion, deletion, and lookup operations, assuming a good hash function and effective collision resolution.\n",
        " Dictionaries in Python are a direct implementation of hash tables. When a Python dictionary is created and populated with key-value pairs, the keys are passed through an internal hash function. This function generates a hash value (an integer) for each key, which is then used to determine where in memory the key-value pair will be stored. This underlying hash table structure is what enables Python dictionaries to offer highly efficient lookups and modifications, making them a fundamental and widely used data type in Python programming.\n",
        "\n",
        " 9. Can lists contain different data types in Python?\n",
        "  * Yes, Python lists can contain elements of different data types. This is a key feature of Python's lists, making them highly versatile.\n",
        "   \n",
        "   a single Python list can hold integers, floats, strings, booleans, and even other complex data structures like nested lists, tuples, or dictionaries, all within the same list.\n",
        "\n",
        " 10.Explain why strings are immutable in Python?\n",
        "  \n",
        "  * Python strings are immutable, meaning their content cannot be changed after creation. Any operation that appears to modify a string, such as concatenation or character replacement, actually results in the creation of a new string object in memory. The original string remains unchanged.\n",
        "\n",
        "\n",
        "\n",
        "   1. Performance and Memory Efficiency:\n",
        "\n",
        "   Immutable strings allow for certain optimizations. Python can safely reuse identical string objects in memory, reducing memory consumption and improving performance, especially for frequently used strings or single-character strings.\n",
        "\n",
        "   2. Thread Safety:\n",
        "\n",
        "   In multi-threaded environments, immutable objects are inherently thread-safe because their state cannot be modified by multiple threads simultaneously, preventing race conditions and data corruption.\n",
        "\n",
        "   3. Hashability and Use as Dictionary Keys:\n",
        "\n",
        "   Immutability ensures that the hash value of a string remains constant throughout its lifetime. This is crucial for using strings as keys in dictionaries and elements in sets, as these data structures rely on hash values for efficient lookup.\n",
        "\n",
        "   4. Predictability and Reduced Bugs:\n",
        "\n",
        "   The inability to modify strings in place prevents accidental or unintended changes to string data, leading to more predictable program behavior and fewer potential bugs.\n",
        "\n",
        "   5. Security:\n",
        "\n",
        "   Immutability can contribute to security by preventing buffer overflows, a common vulnerability in languages with mutable strings where manipulating string buffers incorrectly can lead to security exploits.\n",
        "\n",
        "11. What advantages do dictionaries offer over lists for certain tasks?\n",
        "\n",
        "  * Dictionaries excel in scenarios requiring fast lookups, key-value associations, and complex data mappings, while lists are ideal for ordered collections, sequential processing, and simple data storage.\n",
        "\n",
        "\n",
        "12.Describe a scenario where using a tuple would be preferable over a list?\n",
        "\n",
        "   *  Here's a scenario where using a tuple would be preferable over a list:\n",
        "\n",
        "   Imagine you're developing a system that stores geographical coordinates (latitude and longitude) for various points of interest. These coordinates are fixed and should not be accidentally modified once they're recorded.\n",
        "\n",
        "    In this scenario, using a tuple is advantageous because:\n",
        "\n",
        "    1.Immutability:\n",
        "\n",
        "      Tuples are immutable, meaning their elements cannot be changed after creation. This aligns perfectly with the requirement that coordinates should remain constant, ensuring data integrity. If a list were used, there's a risk of accidental modification, potentially leading to incorrect location data.\n",
        "\n",
        "     2.Performance:\n",
        "\n",
        "      Tuples are generally faster than lists due to their fixed size and immutability. Python can optimize memory allocation for tuples, leading to faster access times. In a system with many coordinate data points, this performance benefit can be significant.\n",
        "\n",
        "     3.Memory Efficiency:\n",
        "\n",
        "      Tuples are more memory-efficient than lists as they do not need to reserve additional memory for potential modifications. This is particularly advantageous when dealing with large datasets of fixed coordinate points.\n",
        "      \n",
        "     4.Dictionary Keys:\n",
        "\n",
        "      Tuples can serve as keys in dictionaries if all their elements are hashable (immutable). If you need to store additional information associated with a specific coordinate, a dictionary where the coordinate tuple acts as the key would be a suitable choice.\n",
        "       \n",
        "\n",
        " while lists could store the coordinates, their mutability would necessitate extra caution to prevent unintended alterations to the data, which could be cumbersome and error-prone. Therefore, in scenarios requiring fixed data and data integrity, tuples are the preferred choice over lists.\n",
        "\n",
        "13. How do sets handle duplicate values in Python?\n",
        "\n",
        "  * Python sets fundamentally do not allow duplicate values. Sets are designed to store unique elements, and if an attempt is made to add an element that already exists within the set, the duplicate is simply ignored and not added. This behavior is inherent to the definition of a mathematical set, upon which Python's set data structure is based.\n",
        "\n",
        "14. How does the “in” keyword work differently for lists and dictionaries?\n",
        "\n",
        "  * The in and not in operator works on dictionaries; it tells you whether something appears or not as a key in the dictionary. It returns two values True or False. The in operator uses different algorithms for lists and dictionaries. For lists, it uses a search algorithm.\n",
        "\n",
        "15. Can you modify the elements of a tuple? Explain why or why not.\n",
        "\n",
        "  *  No, you cannot directly modify the elements of a Python tuple. Tuples are immutable, meaning their contents cannot be changed after creation. This is a fundamental characteristic of tuples, differentiating them from lists which are mutable.\n",
        "   \n",
        "   Explanation:\n",
        "\n",
        "    1.Immutability:\n",
        "\n",
        "      Tuples are designed to be immutable, which means once a tuple is created, you cannot add, remove, or change its elements.\n",
        "       \n",
        "    2.TypeError:\n",
        "\n",
        "      Attempting to modify a tuple element directly will result in a TypeError.\n",
        "\n",
        "    3.Alternatives:\n",
        "\n",
        "      While you can't modify a tuple directly, you can achieve a similar result by converting the tuple to a list, modifying the list, and then converting it back to a tuple. However, this creates a new tuple rather than modifying the original one.\n",
        "\n",
        "  \n",
        "   Why immutability?\n",
        "\n",
        "     1.Data Integrity:\n",
        "\n",
        "       Immutability helps maintain data integrity by preventing accidental or unintended changes to the tuple's contents.\n",
        "\n",
        "     2. Performance:\n",
        "\n",
        "        Immutability can lead to performance benefits in certain scenarios, such as using tuples as dictionary keys because they don't need to be updated.\n",
        "\n",
        "     3.Hashability:\n",
        "\n",
        "       Because tuples are immutable, they can be used as keys in dictionaries. Lists, being mutable, cannot be used as dictionary keys.\n",
        "        \n",
        "   while you can't modify a tuple directly, you can achieve similar results by working with a modified copy.\n",
        "\n",
        "16. What is a nested dictionary, and give an example of its use case?\n",
        "\n",
        " * A nested dictionary in Python is a dictionary that contains other dictionaries as its values. This allows you to create hierarchical data structures, where each level represents a different layer of information. Essentially, it's a dictionary within a dictionary, enabling complex relationships to be represented effectively.\n",
        "\n",
        "                   \n",
        "\n",
        "\n",
        "\n",
        "\n",
        "\n",
        "              \n",
        "    \n",
        "\n",
        "\n",
        "\n",
        "      \n",
        "\n",
        "\n",
        "\n",
        "\n",
        "  \n",
        "   \n",
        "\n",
        "\n",
        "\n",
        "\n",
        "\n",
        "\n",
        "\n",
        "\n",
        "\n",
        "\n",
        "\n",
        "\n",
        "\n",
        "\n",
        "\n",
        "\n",
        "\n",
        "\n"
      ],
      "metadata": {
        "id": "3AqJMRPcgQe5"
      }
    },
    {
      "cell_type": "code",
      "source": [
        "employee_data = {\n",
        "    'employee1': {\n",
        "        'name': 'Alice',\n",
        "        'age': 30,\n",
        "        'department': 'Sales',\n",
        "        'address': {\n",
        "            'street': '123 Main St',\n",
        "            'city': 'New York',\n",
        "            'zipcode': '10001'\n",
        "        }\n",
        "    },\n",
        "    'employee2': {\n",
        "        'name': 'Bob',\n",
        "        'age': 25,\n",
        "        'department': 'Engineering',\n",
        "        'address': {\n",
        "            'street': '456 Oak Ave',\n",
        "            'city': 'San Francisco',\n",
        "            'zipcode': '94107'\n",
        "        }\n",
        "    }\n",
        "}"
      ],
      "metadata": {
        "id": "vg6G8SFD1uLe"
      },
      "execution_count": null,
      "outputs": []
    },
    {
      "cell_type": "markdown",
      "source": [
        "In this example:\n",
        "\n",
        "  * employee_data is the main (outer) dictionary.\n",
        "\n",
        "  * employee1 and employee2 are keys in the outer dictionary.\n",
        "\n",
        "  * The values associated with employee1 and employee2 are inner dictionaries containing details about each employee.\n",
        "\n",
        "  * Furthermore, the address field within each employee's dictionary is also a dictionary, creating a nested structure to store address information.\n",
        "\n",
        "\n",
        "  "
      ],
      "metadata": {
        "id": "sWA9nrnm1ys1"
      }
    },
    {
      "cell_type": "markdown",
      "source": [
        "17. Describe the time complexity of accessing elements in a dictionary?\n",
        "\n",
        "  *  Accessing an element in a Python dictionary (or a hash table in general) typically has a time complexity of O(1) on average. This means that the time it takes to retrieve a value associated with a key remains constant regardless of the dictionary's size.\n",
        "\n",
        "18.In what situations are lists preferred over dictionaries?\n",
        "\n",
        "\n",
        "  *  While both lists and dictionaries are fundamental and versatile data structures in Python, lists are the preferred choice in situations where:\n",
        "\n",
        "    1.Lists maintain the order of elements as they are inserted.\n",
        "\n",
        "    2.This makes them ideal for tasks involving sequences of data or where the position of an element is important.\n",
        "\n",
        "  Example: Storing a chronological record of events, a playlist of songs, or steps in a recipe where the sequence is critical.\n",
        "\n",
        "19. Why are dictionaries considered unordered, and how does that affect data retrieval?\n",
        "\n",
        "  *  Dictionaries are typically considered unordered data structures because, unlike lists or arrays, they do not store elements based on their position or sequence of insertion. Instead, dictionaries rely on a different mechanism for organizing and accessing their data, called hashing.\n",
        "\n",
        "  *  The order in which items were added to a dictionary was not preserved, and iterating over the dictionary would yield elements in a seemingly arbitrary order. This was because the focus of dictionaries was on providing fast key-based lookups, not on maintaining insertion order.\n",
        "\n",
        "  *  However, the built-in dictionary implementation was changed to guarantee that the order of insertion is preserved. This means that when you iterate over a dictionary, the items will appear in the order in which they were added. Despite this, dictionaries are still often referred to as \"unordered\" because their primary purpose remains efficient key-based access, not sequential storage or retrieval based on position or index, according to Sololearn.\n",
        "\n",
        "  How does this affect data retrieval?\n",
        "\n",
        "  *  Fast retrieval by key:\n",
        "\n",
        "      Dictionaries are designed for quick retrieval of values using their associated keys. When you provide a key, a hash function is used to calculate an index (or slot) in the dictionary's internal structure (a hash table), where the corresponding value is stored. This process allows for extremely fast lookups, on average, with a time complexity of O(1), regardless of the dictionary's size.\n",
        "\n",
        "   *  No retrieval by index:\n",
        "\n",
        "      Because dictionaries are not ordered by position, you cannot access elements using numerical indices like you would with lists. For example, my_dictionary[0] is not a valid operation.\n",
        "\n",
        "   *  Order not guaranteed (conceptually):\n",
        "\n",
        "      where insertion order is preserved, it's generally good practice to avoid relying on the order of elements when working with dictionaries, especially if you want your code to be compatible with older versions or if the conceptual \"unordered\" nature of dictionaries is a factor in your design. If the order of elements is crucial for your application, other data structures like lists or the OrderedDict (if using an older Python version or need more specific ordering controls) might be more appropriate.\n",
        "\n",
        " Dictionaries prioritize fast data retrieval based on keys, a function well-suited for scenarios where you need to associate and quickly retrieve values using unique identifiers.\n",
        "\n",
        "20. Explain the difference between a list and a dictionary in terms of data retrieval.\n",
        "\n",
        "  *  Lists: Ordered, accessed by index (0-based), slower for finding specific values (O(n) search), suitable for sequential data.\n",
        "\n",
        "  *  Dictionaries: Unordered, accessed by unique keys, faster for lookups (average O(1)), suitable for key-value pair data.\n",
        "\n",
        "  Lists are like numbered drawers where you access items by their position, while dictionaries are like labeled drawers where you access items using the labels (keys) associated with them. The choice between them depends on your specific needs: prioritize order and sequential access? Choose lists. Prioritize fast lookups and unique key-based access? Choose dictionaries.\n",
        "\n",
        "\n",
        "\n",
        "         "
      ],
      "metadata": {
        "id": "w8TWqyy92WcE"
      }
    },
    {
      "cell_type": "markdown",
      "source": [
        "#Practical Questions"
      ],
      "metadata": {
        "id": "5sKz8_vk8K3F"
      }
    },
    {
      "cell_type": "markdown",
      "source": [
        "1. Write a code to create a string with your name and print it."
      ],
      "metadata": {
        "id": "zlBQVJUy8Q_z"
      }
    },
    {
      "cell_type": "code",
      "metadata": {
        "id": "effbeea1"
      },
      "source": [
        "name = \"Yagesh kumar\"\n",
        "print(name)"
      ],
      "execution_count": null,
      "outputs": []
    },
    {
      "cell_type": "markdown",
      "source": [],
      "metadata": {
        "id": "7BNPXWrF8q_n"
      }
    },
    {
      "cell_type": "markdown",
      "source": [
        "2. Write a code to find the length of the string \"Hello World\"."
      ],
      "metadata": {
        "id": "A3keTJ-M8tO9"
      }
    },
    {
      "cell_type": "code",
      "metadata": {
        "id": "670ee220"
      },
      "source": [
        "string = \"Hello World\"\n",
        "length = len(string)\n",
        "print(length)"
      ],
      "execution_count": null,
      "outputs": []
    },
    {
      "cell_type": "markdown",
      "source": [
        "3. Write a code to slice the first 3 characters from the string \"Python Programming\"."
      ],
      "metadata": {
        "id": "KkPNASKk9OdX"
      }
    },
    {
      "cell_type": "code",
      "metadata": {
        "id": "90a63f81"
      },
      "source": [
        "string = \"Python Programming\"\n",
        "sliced_string = string[:3]\n",
        "print(sliced_string)"
      ],
      "execution_count": null,
      "outputs": []
    },
    {
      "cell_type": "markdown",
      "source": [
        "4. Write a code to convert the string \"hello\" to uppercase."
      ],
      "metadata": {
        "id": "HIEnmiKl9paF"
      }
    },
    {
      "cell_type": "code",
      "metadata": {
        "id": "c198cd3c"
      },
      "source": [
        "string = \"hello\"\n",
        "uppercase_string = string.upper()\n",
        "print(uppercase_string)"
      ],
      "execution_count": null,
      "outputs": []
    },
    {
      "cell_type": "markdown",
      "source": [
        " 5.Write a code to replace the word \"apple\" with \"orange\" in the string \"I like apple\"."
      ],
      "metadata": {
        "id": "Bx3yIl9W95Dj"
      }
    },
    {
      "cell_type": "code",
      "metadata": {
        "id": "2c3db369"
      },
      "source": [
        "string = \"I like apple\"\n",
        "new_string = string.replace(\"apple\", \"orange\")\n",
        "print(new_string)"
      ],
      "execution_count": null,
      "outputs": []
    },
    {
      "cell_type": "markdown",
      "source": [
        "6.Write a code to create a list with numbers 1 to 5 and print it."
      ],
      "metadata": {
        "id": "W_gBCi7k-Gb-"
      }
    },
    {
      "cell_type": "code",
      "metadata": {
        "id": "4eed7ce3"
      },
      "source": [
        "numbers = [1, 2, 3, 4, 5]\n",
        "print(numbers)"
      ],
      "execution_count": null,
      "outputs": []
    },
    {
      "cell_type": "markdown",
      "source": [
        "7.Write a code to append the number 10 to the list [1, 2, 3, 4]."
      ],
      "metadata": {
        "id": "Xq1VMLF4-hWT"
      }
    },
    {
      "cell_type": "code",
      "metadata": {
        "id": "a6b39623"
      },
      "source": [
        "numbers = [1, 2, 3, 4]\n",
        "numbers.append(10)\n",
        "print(numbers)"
      ],
      "execution_count": null,
      "outputs": []
    },
    {
      "cell_type": "markdown",
      "source": [
        "8.Write a code to remove the number 3 from the list [1, 2, 3, 4, 5]."
      ],
      "metadata": {
        "id": "GLR7jNs9-scG"
      }
    },
    {
      "cell_type": "code",
      "metadata": {
        "id": "f4208ac3"
      },
      "source": [
        "numbers = [1, 2, 3, 4, 5]\n",
        "numbers.remove(3)\n",
        "print(numbers)"
      ],
      "execution_count": null,
      "outputs": []
    },
    {
      "cell_type": "markdown",
      "source": [
        "9.Write a code to access the second element in the list ['a', 'b', 'c', 'd']."
      ],
      "metadata": {
        "id": "HRP5WUXI_HwE"
      }
    },
    {
      "cell_type": "code",
      "metadata": {
        "id": "bfeac452"
      },
      "source": [
        "my_list = ['a', 'b', 'c', 'd']\n",
        "second_element = my_list[1]\n",
        "print(second_element)"
      ],
      "execution_count": null,
      "outputs": []
    },
    {
      "cell_type": "markdown",
      "source": [
        "10.Write a code to reverse the list [10, 20, 30, 40, 50].\n"
      ],
      "metadata": {
        "id": "m8uduAqL_Un1"
      }
    },
    {
      "cell_type": "code",
      "metadata": {
        "id": "b99d21d9"
      },
      "source": [
        "numbers = [10, 20, 30, 40, 50]\n",
        "numbers.reverse()\n",
        "print(numbers)"
      ],
      "execution_count": null,
      "outputs": []
    },
    {
      "cell_type": "markdown",
      "source": [
        "11.Write a code to create a tuple with the elements 100, 200, 300 and print it."
      ],
      "metadata": {
        "id": "olJmtcDn_uNW"
      }
    },
    {
      "cell_type": "code",
      "metadata": {
        "id": "e77c0b36"
      },
      "source": [
        "my_tuple = (100, 200, 300)\n",
        "print(my_tuple)"
      ],
      "execution_count": null,
      "outputs": []
    },
    {
      "cell_type": "markdown",
      "source": [
        "12. Write a code to access the second-to-last element of the tuple ('red', 'green', 'blue', 'yellow')."
      ],
      "metadata": {
        "id": "vC70yWrC_5y-"
      }
    },
    {
      "cell_type": "code",
      "metadata": {
        "id": "985ea2fc"
      },
      "source": [
        "my_tuple = ('red', 'green', 'blue', 'yellow')\n",
        "second_to_last_element = my_tuple[-2]\n",
        "print(second_to_last_element)"
      ],
      "execution_count": null,
      "outputs": []
    },
    {
      "cell_type": "markdown",
      "source": [
        "13. Write a code to find the minimum number in the tuple (10, 20, 5, 15)."
      ],
      "metadata": {
        "id": "rNva7aaxAEB1"
      }
    },
    {
      "cell_type": "code",
      "metadata": {
        "id": "2c34caae"
      },
      "source": [
        "numbers = (10, 20, 5, 15)\n",
        "minimum_number = min(numbers)\n",
        "print(minimum_number)"
      ],
      "execution_count": null,
      "outputs": []
    },
    {
      "cell_type": "markdown",
      "source": [
        "14.  Write a code to find the index of the element \"cat\" in the tuple ('dog', 'cat', 'rabbit')."
      ],
      "metadata": {
        "id": "fqsaxnA9APm-"
      }
    },
    {
      "cell_type": "code",
      "metadata": {
        "id": "6a2ef035"
      },
      "source": [
        "my_tuple = ('dog', 'cat', 'rabbit')\n",
        "index_of_cat = my_tuple.index(\"cat\")\n",
        "print(index_of_cat)"
      ],
      "execution_count": null,
      "outputs": []
    },
    {
      "cell_type": "markdown",
      "source": [
        "15. Write a code to create a tuple containing three different fruits and check if \"kiwi\" is in it."
      ],
      "metadata": {
        "id": "sUBNGPUXA_Jb"
      }
    },
    {
      "cell_type": "code",
      "metadata": {
        "id": "440d6f27"
      },
      "source": [
        "fruits = ('apple', 'banana', 'orange')\n",
        "is_kiwi_in_tuple = \"kiwi\" in fruits\n",
        "print(is_kiwi_in_tuple)"
      ],
      "execution_count": null,
      "outputs": []
    },
    {
      "cell_type": "markdown",
      "source": [
        "16. Write a code to create a set with the elements 'a', 'b', 'c' and print it."
      ],
      "metadata": {
        "id": "6fNRh9DvBKHw"
      }
    },
    {
      "cell_type": "code",
      "metadata": {
        "id": "b20f89f9"
      },
      "source": [
        "my_set = {'a', 'b', 'c'}\n",
        "print(my_set)"
      ],
      "execution_count": null,
      "outputs": []
    },
    {
      "cell_type": "markdown",
      "source": [
        "17. Write a code to clear all elements from the set {1, 2, 3, 4, 5}."
      ],
      "metadata": {
        "id": "vI3OJZGZBScV"
      }
    },
    {
      "cell_type": "code",
      "metadata": {
        "id": "4456283e"
      },
      "source": [
        "my_set = {1, 2, 3, 4, 5}\n",
        "my_set.clear()\n",
        "print(my_set)"
      ],
      "execution_count": null,
      "outputs": []
    },
    {
      "cell_type": "markdown",
      "source": [
        "18.Write a code to remove the element 4 from the set {1, 2, 3, 4}."
      ],
      "metadata": {
        "id": "8lABO44ZBemG"
      }
    },
    {
      "cell_type": "code",
      "metadata": {
        "id": "82bdb3d8"
      },
      "source": [
        "my_set = {1, 2, 3, 4}\n",
        "my_set.remove(4)\n",
        "print(my_set)"
      ],
      "execution_count": null,
      "outputs": []
    },
    {
      "cell_type": "markdown",
      "source": [
        "19. Write a code to find the union of two sets {1, 2, 3} and {3, 4, 5}."
      ],
      "metadata": {
        "id": "yViWufl2Bq7D"
      }
    },
    {
      "cell_type": "code",
      "metadata": {
        "id": "4f1195d0"
      },
      "source": [
        "set1 = {1, 2, 3}\n",
        "set2 = {3, 4, 5}\n",
        "union_set = set1 | set2\n",
        "print(union_set)"
      ],
      "execution_count": null,
      "outputs": []
    },
    {
      "cell_type": "markdown",
      "source": [
        "20. Write a code to find the intersection of two sets {1, 2, 3} and {2, 3, 4}."
      ],
      "metadata": {
        "id": "qB6a3d-FB7-L"
      }
    },
    {
      "cell_type": "code",
      "metadata": {
        "id": "c0cba41f"
      },
      "source": [
        "set1 = {1, 2, 3}\n",
        "set2 = {2, 3, 4}\n",
        "intersection_set = set1 & set2\n",
        "print(intersection_set)"
      ],
      "execution_count": null,
      "outputs": []
    },
    {
      "cell_type": "markdown",
      "source": [
        "21. Write a code to create a dictionary with the keys \"name\", \"age\", and \"city\", and print it."
      ],
      "metadata": {
        "id": "qJdzbkqJCLEV"
      }
    },
    {
      "cell_type": "code",
      "metadata": {
        "id": "6ae52803"
      },
      "source": [
        "my_dict = {\n",
        "    \"name\": \"Yagesh kumar \",\n",
        "    \"age\": 24,\n",
        "    \"city\": \"Muzaffarpur\"\n",
        "}\n",
        "print(my_dict)"
      ],
      "execution_count": null,
      "outputs": []
    },
    {
      "cell_type": "markdown",
      "source": [
        "22. Write a code to add a new key-value pair \"country\": \"USA\" to the dictionary {'name': 'John', 'age': 25}."
      ],
      "metadata": {
        "id": "VrVcGT7uCxEB"
      }
    },
    {
      "cell_type": "code",
      "metadata": {
        "id": "baa0d2e1"
      },
      "source": [
        "my_dict = {'name': 'John', 'age': 25}\n",
        "my_dict[\"country\"] = \"USA\"\n",
        "print(my_dict)"
      ],
      "execution_count": null,
      "outputs": []
    },
    {
      "cell_type": "markdown",
      "source": [
        "23.Write a code to access the value associated with the key \"name\" in the dictionary {'name': 'Alice', 'age': 30}."
      ],
      "metadata": {
        "id": "25FIKbv9DAkf"
      }
    },
    {
      "cell_type": "code",
      "metadata": {
        "id": "06f9b9b3"
      },
      "source": [
        "my_dict = {'name': 'Alice', 'age': 30}\n",
        "name_value = my_dict[\"name\"]\n",
        "print(name_value)"
      ],
      "execution_count": null,
      "outputs": []
    },
    {
      "cell_type": "markdown",
      "source": [
        "24. Write a code to remove the key \"age\" from the dictionary {'name': 'Bob', 'age': 22, 'city': 'New York'}."
      ],
      "metadata": {
        "id": "jVlS1K-xDJgl"
      }
    },
    {
      "cell_type": "code",
      "metadata": {
        "id": "da4a3043"
      },
      "source": [
        "my_dict = {'name': 'Bob', 'age': 22, 'city': 'New York'}\n",
        "del my_dict[\"age\"]\n",
        "print(my_dict)"
      ],
      "execution_count": null,
      "outputs": []
    },
    {
      "cell_type": "markdown",
      "source": [
        "25. Write a code to check if the key \"city\" exists in the dictionary {'name': 'Alice', 'city': 'Paris'}."
      ],
      "metadata": {
        "id": "eknIGgUyDVoX"
      }
    },
    {
      "cell_type": "code",
      "metadata": {
        "id": "6cd7dcff"
      },
      "source": [
        "my_dict = {'name': 'Alice', 'city': 'Paris'}\n",
        "key_exists = \"city\" in my_dict\n",
        "print(key_exists)"
      ],
      "execution_count": null,
      "outputs": []
    },
    {
      "cell_type": "markdown",
      "source": [
        "26.Write a code to create a list, a tuple, and a dictionary, and print them all."
      ],
      "metadata": {
        "id": "8YU1ykXADeX5"
      }
    },
    {
      "cell_type": "code",
      "metadata": {
        "id": "471e96a2"
      },
      "source": [
        "my_list = [1, 2, 3, 'a', 'b']\n",
        "my_tuple = (10, 20, 30, 'c', 'd')\n",
        "my_dict = {'key1': 'value1', 'key2': 123}\n",
        "\n",
        "print(\"My List:\", my_list)\n",
        "print(\"My Tuple:\", my_tuple)\n",
        "print(\"My Dictionary:\", my_dict)"
      ],
      "execution_count": null,
      "outputs": []
    },
    {
      "cell_type": "markdown",
      "source": [
        "27.Write a code to create a list of 5 random numbers between 1 and 100, sort it in ascending order, and print the\n",
        "result.(replaced)\n"
      ],
      "metadata": {
        "id": "SOtjlWjlDmhl"
      }
    },
    {
      "cell_type": "code",
      "metadata": {
        "id": "535865ad"
      },
      "source": [
        "import random\n",
        "random_numbers = [random.randint(1, 100) for _ in range(5)]\n",
        "random_numbers.sort()\n",
        "print(random_numbers)"
      ],
      "execution_count": null,
      "outputs": []
    },
    {
      "cell_type": "markdown",
      "source": [
        "28.Write a code to create a list with strings and print the element at the third index."
      ],
      "metadata": {
        "id": "livVCr61D_oP"
      }
    },
    {
      "cell_type": "code",
      "metadata": {
        "id": "f49efb34"
      },
      "source": [
        "my_list = [\"apple\", \"banana\", \"cherry\", \"date\", \"elderberry\"]\n",
        "third_element = my_list[2]\n",
        "print(third_element)"
      ],
      "execution_count": null,
      "outputs": []
    },
    {
      "cell_type": "markdown",
      "source": [
        "29. Write a code to combine two dictionaries into one and print the result."
      ],
      "metadata": {
        "id": "Ibv7OtTTEJSu"
      }
    },
    {
      "cell_type": "code",
      "metadata": {
        "id": "e43114b6"
      },
      "source": [
        "dict1 = {'a': 1, 'b': 2}\n",
        "dict2 = {'c': 3, 'd': 4}\n",
        "combined_dict_update = dict1.copy()\n",
        "combined_dict_update.update(dict2)\n",
        "print(\"Combined dictionary (update):\", combined_dict_update)\n"
      ],
      "execution_count": null,
      "outputs": []
    },
    {
      "cell_type": "markdown",
      "source": [
        "30.Write a code to convert a list of strings into a set."
      ],
      "metadata": {
        "id": "OingXakcEcpJ"
      }
    },
    {
      "cell_type": "code",
      "metadata": {
        "id": "a2606ef7"
      },
      "source": [
        "list_of_strings = [\"apple\", \"banana\", \"cherry\", \"apple\", \"date\"]\n",
        "set_of_strings = set(list_of_strings)\n",
        "print(set_of_strings)"
      ],
      "execution_count": null,
      "outputs": []
    }
  ]
}